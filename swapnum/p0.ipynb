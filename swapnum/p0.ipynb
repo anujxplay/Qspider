{
 "cells": [
  {
   "cell_type": "code",
   "execution_count": 1,
   "id": "04994b5f",
   "metadata": {},
   "outputs": [
    {
     "name": "stdout",
     "output_type": "stream",
     "text": [
      "a= 1 b= 2\n",
      "a= 2 b= 1\n"
     ]
    }
   ],
   "source": [
    "a=int(input(\"Enter the first num :\"))\n",
    "b=int(input(\"Enter the first num :\"))\n",
    "print(\"a=\",a,\"b=\",b)\n",
    "a,b=b,a\n",
    "print(\"a=\",a,\"b=\",b)"
   ]
  },
  {
   "cell_type": "code",
   "execution_count": null,
   "id": "a690785c",
   "metadata": {},
   "outputs": [
    {
     "name": "stdout",
     "output_type": "stream",
     "text": [
      "Hello Anuj!!\n"
     ]
    }
   ],
   "source": [
    "print(\"Hello Anuj!!\")"
   ]
  },
  {
   "cell_type": "code",
   "execution_count": 1,
   "id": "071c540d",
   "metadata": {},
   "outputs": [
    {
     "name": "stdout",
     "output_type": "stream",
     "text": [
      "max value: 8\n"
     ]
    }
   ],
   "source": [
    "l=eval(input(\"Enter the list: \"))\n",
    "if type(l)==list:\n",
    "    max=l[0]\n",
    "    for i in l:\n",
    "        if type(l[l.index(i)])==int:\n",
    "            if i>max:\n",
    "                max=i\n",
    "    print(\"max value:\",max)         \n"
   ]
  },
  {
   "cell_type": "code",
   "execution_count": null,
   "id": "623a6c47",
   "metadata": {},
   "outputs": [],
   "source": []
  }
 ],
 "metadata": {
  "kernelspec": {
   "display_name": "Python 3",
   "language": "python",
   "name": "python3"
  },
  "language_info": {
   "codemirror_mode": {
    "name": "ipython",
    "version": 3
   },
   "file_extension": ".py",
   "mimetype": "text/x-python",
   "name": "python",
   "nbconvert_exporter": "python",
   "pygments_lexer": "ipython3",
   "version": "3.13.5"
  }
 },
 "nbformat": 4,
 "nbformat_minor": 5
}
