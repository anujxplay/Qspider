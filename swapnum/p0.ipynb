{
 "cells": [
  {
   "cell_type": "code",
   "execution_count": 1,
   "id": "04994b5f",
   "metadata": {},
   "outputs": [
    {
     "name": "stdout",
     "output_type": "stream",
     "text": [
      "a= 1 b= 2\n",
      "a= 2 b= 1\n"
     ]
    }
   ],
   "source": [
    "a=int(input(\"Enter the first num :\"))\n",
    "b=int(input(\"Enter the first num :\"))\n",
    "print(\"a=\",a,\"b=\",b)\n",
    "a,b=b,a\n",
    "print(\"a=\",a,\"b=\",b)"
   ]
  },
  {
   "cell_type": "code",
   "execution_count": null,
   "id": "065b40f4",
   "metadata": {},
   "outputs": [],
   "source": []
  },
  {
   "cell_type": "code",
   "execution_count": 2,
   "id": "bb0e4d10",
   "metadata": {},
   "outputs": [
    {
     "name": "stdout",
     "output_type": "stream",
     "text": [
      "['f', 'd', 'g', 'd']\n",
      "['1', '2', '3', '4']\n",
      "['@', '$']\n"
     ]
    }
   ],
   "source": [
    "#WAP to extract all the special charactrs, alphabets and numbers in a given string\n",
    "word = eval(input(\"Enter a string: \"))\n",
    "alpha_list = []\n",
    "num_list = []\n",
    "sp_list = []\n",
    "for i in word:\n",
    "    if i.isalpha():\n",
    "        alpha_list.append(i)\n",
    "    elif i.isdigit():\n",
    "        num_list.append(i)\n",
    "    else:\n",
    "        sp_list.append(i)\n",
    "print(alpha_list)\n",
    "print(num_list)\n",
    "print(sp_list)      "
   ]
  },
  {
   "cell_type": "code",
   "execution_count": null,
   "id": "a690785c",
   "metadata": {},
   "outputs": [
    {
     "name": "stdout",
     "output_type": "stream",
     "text": [
      "Hello Anuj!!\n"
     ]
    }
   ],
   "source": [
    "print(\"Hello Anuj!!\")"
   ]
  },
  {
   "cell_type": "code",
   "execution_count": null,
   "id": "071c540d",
   "metadata": {},
   "outputs": [],
   "source": [
    "l=eval(input(\"Enter the list: \"))\n",
    "if type(l)==list:\n",
    "    max=l[0]\n",
    "    for i in l:\n",
    "        if type(l[l.index(i)])==int:\n",
    "            if i>max:\n",
    "                max=i\n",
    "    print(\"max value:\",max)         \n"
   ]
  },
  {
   "cell_type": "code",
   "execution_count": null,
   "id": "623a6c47",
   "metadata": {},
   "outputs": [],
   "source": []
  },
  {
   "cell_type": "code",
   "execution_count": 1,
   "id": "40e54f27",
   "metadata": {},
   "outputs": [
    {
     "name": "stdout",
     "output_type": "stream",
     "text": [
      "1\n",
      "2\n",
      "3\n",
      "4\n",
      "5\n"
     ]
    }
   ],
   "source": [
    "# WAP to print n natural numbers\n",
    "\n",
    "n=int(input(\"Enter a number --\"))  \n",
    "i=1\n",
    "while i<=n:\n",
    "    print(i)\n",
    "    i+=1  "
   ]
  },
  {
   "cell_type": "code",
   "execution_count": 1,
   "id": "7473d0e8",
   "metadata": {},
   "outputs": [
    {
     "name": "stdout",
     "output_type": "stream",
     "text": [
      "sum: 6\n",
      "product: 1\n"
     ]
    }
   ],
   "source": [
    "# Find the product of odd digits and sum of even digits of a given number\n",
    "\n",
    "n=int(input(\"Enter a number: \"))\n",
    "sum= 0\n",
    "pro= 1\n",
    "while n>0:\n",
    "    ld=n%10\n",
    "    if ld%2==0:\n",
    "        sum+=ld\n",
    "    else:\n",
    "        pro*=ld\n",
    "    n//=10 \n",
    "print(\"sum:\",sum)\n",
    "print(\"product:\",pro)       "
   ]
  },
  {
   "cell_type": "code",
   "execution_count": null,
   "id": "6aeabcd4",
   "metadata": {},
   "outputs": [
    {
     "name": "stdout",
     "output_type": "stream",
     "text": [
      "3628800\n"
     ]
    }
   ],
   "source": [
    "# WAP to get the sum of n natural numbers \n",
    "# Product of n natural numbers\n",
    "\n",
    "n = int(input(\"Enter the number --\"))\n",
    "pro = 1\n",
    "for i in range(1,n+1):\n",
    "    pro*=i\n",
    "print(pro)    "
   ]
  }
 ],
 "metadata": {
  "kernelspec": {
   "display_name": "Python 3",
   "language": "python",
   "name": "python3"
  },
  "language_info": {
   "codemirror_mode": {
    "name": "ipython",
    "version": 3
   },
   "file_extension": ".py",
   "mimetype": "text/x-python",
   "name": "python",
   "nbconvert_exporter": "python",
   "pygments_lexer": "ipython3",
   "version": "3.13.5"
  }
 },
 "nbformat": 4,
 "nbformat_minor": 5
}
