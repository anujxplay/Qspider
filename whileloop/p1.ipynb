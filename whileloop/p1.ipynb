{
 "cells": [
  {
   "cell_type": "code",
   "execution_count": 1,
   "id": "3029d719",
   "metadata": {},
   "outputs": [
    {
     "name": "stdout",
     "output_type": "stream",
     "text": [
      "2\n",
      "4\n",
      "6\n",
      "8\n",
      "10\n",
      "12\n",
      "14\n",
      "16\n",
      "18\n",
      "20\n"
     ]
    }
   ],
   "source": [
    "#Q1.Write a program to print the following using while loop First 10 Even numbers\n",
    "\n",
    "i = 1          \n",
    "while i <= 10:  \n",
    "    print(i * 2)   \n",
    "    i += 1"
   ]
  },
  {
   "cell_type": "code",
   "execution_count": 1,
   "id": "74f2e253",
   "metadata": {},
   "outputs": [
    {
     "name": "stdout",
     "output_type": "stream",
     "text": [
      "1\n",
      "3\n",
      "5\n",
      "7\n",
      "9\n",
      "11\n",
      "13\n",
      "15\n",
      "17\n",
      "19\n"
     ]
    }
   ],
   "source": [
    "#Q2.First 10 Odd numbers \n",
    "num = 1      \n",
    "count = 1    \n",
    "\n",
    "while count <= 10:\n",
    "    print(num)\n",
    "    num += 2    \n",
    "    count += 1\n"
   ]
  },
  {
   "cell_type": "code",
   "execution_count": 2,
   "id": "d14c9494",
   "metadata": {},
   "outputs": [
    {
     "name": "stdout",
     "output_type": "stream",
     "text": [
      "1\n",
      "2\n",
      "3\n",
      "4\n",
      "5\n",
      "6\n",
      "7\n",
      "8\n",
      "9\n",
      "10\n"
     ]
    }
   ],
   "source": [
    "#Q3.First 10 Natural numbers \n",
    "i = 1         \n",
    "while i <= 10: \n",
    "    print(i)\n",
    "    i += 1     "
   ]
  },
  {
   "cell_type": "code",
   "execution_count": 1,
   "id": "1637d434",
   "metadata": {},
   "outputs": [
    {
     "name": "stdout",
     "output_type": "stream",
     "text": [
      "0\n",
      "1\n",
      "2\n",
      "3\n",
      "4\n",
      "5\n",
      "6\n",
      "7\n",
      "8\n",
      "9\n"
     ]
    }
   ],
   "source": [
    "#Q4. First 10 Whole numbers\n",
    "i = 0  \n",
    "while i < 10:\n",
    "    print(i)\n",
    "    i += 1"
   ]
  },
  {
   "cell_type": "code",
   "execution_count": 2,
   "id": "014a3ee8",
   "metadata": {},
   "outputs": [
    {
     "name": "stdout",
     "output_type": "stream",
     "text": [
      "Number: 1, Square: 1\n",
      "Number: 2, Square: 4\n",
      "Number: 3, Square: 9\n",
      "Number: 4, Square: 16\n",
      "Number: 5, Square: 25\n",
      "Number: 6, Square: 36\n",
      "Number: 7, Square: 49\n",
      "Number: 8, Square: 64\n",
      "Number: 9, Square: 81\n",
      "Number: 10, Square: 100\n"
     ]
    }
   ],
   "source": [
    "#Q5. Write a program to print first 10 integers and their squares using while loop. \n",
    "i = 1   \n",
    "while i <= 10:\n",
    "    print(f\"Number: {i}, Square: {i ** 2}\")\n",
    "    i += 1"
   ]
  },
  {
   "cell_type": "code",
   "execution_count": 3,
   "id": "ec844bb7",
   "metadata": {},
   "outputs": [
    {
     "name": "stdout",
     "output_type": "stream",
     "text": [
      "10\n",
      "20\n",
      "30\n",
      "40\n",
      "50\n",
      "60\n",
      "70\n",
      "80\n",
      "90\n",
      "100\n",
      "110\n",
      "120\n",
      "130\n",
      "140\n",
      "150\n",
      "160\n",
      "170\n",
      "180\n",
      "190\n",
      "200\n",
      "210\n",
      "220\n",
      "230\n",
      "240\n",
      "250\n",
      "260\n",
      "270\n",
      "280\n",
      "290\n",
      "300\n"
     ]
    }
   ],
   "source": [
    "#Q6. Write while loop statement to print the following series: 10, 20, 30 … … 300 \n",
    "i = 10\n",
    "while i <= 300:\n",
    "    print(i)\n",
    "    i += 10"
   ]
  },
  {
   "cell_type": "code",
   "execution_count": 4,
   "id": "4011decf",
   "metadata": {},
   "outputs": [
    {
     "name": "stdout",
     "output_type": "stream",
     "text": [
      "105\n",
      "98\n",
      "91\n",
      "84\n",
      "77\n",
      "70\n",
      "63\n",
      "56\n",
      "49\n",
      "42\n",
      "35\n",
      "28\n",
      "21\n",
      "14\n",
      "7\n"
     ]
    }
   ],
   "source": [
    "#Q7. Write a while loop statement to print the following series 105, 98, 91 ………7.\n",
    "i = 105\n",
    "while i >= 7:\n",
    "    print(i)\n",
    "    i -= 7"
   ]
  },
  {
   "cell_type": "code",
   "execution_count": 1,
   "id": "c9ba34db",
   "metadata": {},
   "outputs": [
    {
     "name": "stdout",
     "output_type": "stream",
     "text": [
      "['f', 'd', 'r', 'e']\n",
      "['2', '1', '3', '1']\n",
      "['@']\n"
     ]
    }
   ],
   "source": [
    "#WAP to extract all the special charactrs, alphabets and numbers in a given string\n",
    "word = eval(input(\"Enter a string: \"))\n",
    "alpha_list = []\n",
    "num_list = []\n",
    "sp_list = []\n",
    "for i in word:\n",
    "    if i.isalpha():\n",
    "        alpha_list.append(i)\n",
    "    elif i.isdigit():\n",
    "        num_list.append(i)\n",
    "    else:\n",
    "        sp_list.append(i)\n",
    "print(alpha_list)\n",
    "print(num_list)\n",
    "print(sp_list)      "
   ]
  },
  {
   "cell_type": "code",
   "execution_count": 1,
   "id": "b347193a",
   "metadata": {},
   "outputs": [
    {
     "name": "stdout",
     "output_type": "stream",
     "text": [
      "105\n",
      "98\n",
      "91\n",
      "84\n",
      "77\n",
      "70\n",
      "63\n",
      "56\n",
      "49\n",
      "42\n",
      "35\n",
      "28\n",
      "21\n",
      "14\n",
      "7\n"
     ]
    }
   ],
   "source": [
    "#Q7. Write a while loop statement to print the following series 105, 98, 91 ………7.\n",
    "i = 105\n",
    "while i >= 7:\n",
    "    print(i)\n",
    "    i = i - 7"
   ]
  },
  {
   "cell_type": "code",
   "execution_count": 2,
   "id": "69e494f1",
   "metadata": {},
   "outputs": [
    {
     "name": "stdout",
     "output_type": "stream",
     "text": [
      "10\n",
      "9\n",
      "8\n",
      "7\n",
      "6\n",
      "5\n",
      "4\n",
      "3\n",
      "2\n",
      "1\n"
     ]
    }
   ],
   "source": [
    "#Q8. Write a program to print the first 10 natural number in reverse order using while loop.\n",
    "i = 10\n",
    "while i >= 1:\n",
    "    print(i)\n",
    "    i = i - 1"
   ]
  },
  {
   "cell_type": "code",
   "execution_count": 4,
   "id": "9b240d59",
   "metadata": {},
   "outputs": [
    {
     "name": "stdout",
     "output_type": "stream",
     "text": [
      "Sum of first 10 natural numbers is: 55\n"
     ]
    }
   ],
   "source": [
    "#Q9. Write a program to print sum of first 10 Natural numbers.\n",
    "i = 1\n",
    "sum = 0\n",
    "\n",
    "while i <= 10:\n",
    "    sum = sum + i\n",
    "    i = i + 1\n",
    "\n",
    "print(\"Sum of first 10 natural numbers is:\", sum)"
   ]
  }
 ],
 "metadata": {
  "kernelspec": {
   "display_name": "Python 3",
   "language": "python",
   "name": "python3"
  },
  "language_info": {
   "codemirror_mode": {
    "name": "ipython",
    "version": 3
   },
   "file_extension": ".py",
   "mimetype": "text/x-python",
   "name": "python",
   "nbconvert_exporter": "python",
   "pygments_lexer": "ipython3",
   "version": "3.13.5"
  }
 },
 "nbformat": 4,
 "nbformat_minor": 5
}
